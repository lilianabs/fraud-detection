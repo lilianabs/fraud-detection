{
 "cells": [
  {
   "cell_type": "code",
   "execution_count": null,
   "metadata": {},
   "outputs": [],
   "source": [
    "import logging\n",
    "from random import random\n",
    "import pandas as pd\n",
    "\n",
    "import mlflow\n",
    "import pickle\n",
    "\n",
    "from sklearn.ensemble import RandomForestClassifier\n",
    "from sklearn.model_selection import train_test_split\n",
    "from sklearn.metrics import accuracy_score\n",
    "from sklearn.metrics import f1_score"
   ]
  },
  {
   "cell_type": "code",
   "execution_count": null,
   "metadata": {},
   "outputs": [],
   "source": [
    "logging.basicConfig(\n",
    "    filename='../logs/churn_library.log',\n",
    "    level=logging.INFO,\n",
    "    filemode='w',\n",
    "    format='%(name)s - %(levelname)s - %(message)s')"
   ]
  },
  {
   "cell_type": "code",
   "execution_count": null,
   "metadata": {},
   "outputs": [],
   "source": [
    "mlflow.set_tracking_uri(\"sqlite:///mlflow.db\")\n",
    "mlflow.set_experiment(\"fraud-detection\")"
   ]
  },
  {
   "cell_type": "code",
   "execution_count": null,
   "metadata": {},
   "outputs": [],
   "source": [
    "try:\n",
    "    logging.info(\"Loading data\")\n",
    "    df = pd.read_csv(\"../data/raw/fraudTrain.csv\")\n",
    "    df = df.drop('Unnamed: 0', axis=1)\n",
    "except FileNotFoundError:\n",
    "    logging.error(\"CSV not found\")\n",
    "    df = pd.DataFrame()"
   ]
  },
  {
   "cell_type": "code",
   "execution_count": null,
   "metadata": {},
   "outputs": [],
   "source": [
    "# Feature engineering\n",
    "df[\"trans_date_trans_time\"] = pd.to_datetime(df[\"trans_date_trans_time\"])\n",
    "df[\"hour\"] = df.trans_date_trans_time.dt.hour\n",
    "\n",
    "# Normal hours are between 05:00 and 21:00 and abnormal otherwise\n",
    "df[\"is_normal_hour\"] = 0\n",
    "df.loc[df.hour < 5, \"is_normal_hour\"] = 1\n",
    "df.loc[df.hour > 21, \"is_normal_hour\"] = 1"
   ]
  },
  {
   "cell_type": "code",
   "execution_count": null,
   "metadata": {},
   "outputs": [],
   "source": [
    "features = [\"amt\", 'is_normal_hour']\n",
    "\n",
    "X = df[features]\n",
    "y = df.is_fraud\n",
    "\n",
    "X_train, X_valid, y_train, y_valid = train_test_split(X, y, \n",
    "                                                      stratify=y,\n",
    "                                                      random_state=1,\n",
    "                                                      train_size=0.8)"
   ]
  },
  {
   "cell_type": "code",
   "execution_count": null,
   "metadata": {},
   "outputs": [],
   "source": [
    "with mlflow.start_run():\n",
    "    \n",
    "    mlflow.set_tag(\"experiment_type\", \"inital experiments\")\n",
    "    \n",
    "    params = {\n",
    "        \"n_estimators\": 10,\n",
    "        \"max_depth\": 5\n",
    "    }\n",
    "    \n",
    "    mlflow.log_params(params)\n",
    "    \n",
    "    model = RandomForestClassifier(\n",
    "        **params,\n",
    "        random_state=1\n",
    "        )\n",
    "    \n",
    "    model.fit(X_train, y_train)\n",
    "\n",
    "    predictions = model.predict(X_valid)\n",
    "\n",
    "    acc = accuracy_score(y_valid, predictions, normalize=True)\n",
    "    f1_sc = f1_score(y_valid, predictions)\n",
    "    \n",
    "    metrics = {\n",
    "        \"accuracy\": acc,\n",
    "        \"f1_score\": f1_sc\n",
    "    }\n",
    "    \n",
    "    mlflow.log_metrics(metrics)"
   ]
  },
  {
   "cell_type": "code",
   "execution_count": null,
   "metadata": {},
   "outputs": [],
   "source": []
  }
 ],
 "metadata": {
  "kernelspec": {
   "display_name": "Python 3.8.13 ('fraud-detection': venv)",
   "language": "python",
   "name": "python3"
  },
  "language_info": {
   "codemirror_mode": {
    "name": "ipython",
    "version": 3
   },
   "file_extension": ".py",
   "mimetype": "text/x-python",
   "name": "python",
   "nbconvert_exporter": "python",
   "pygments_lexer": "ipython3",
   "version": "3.8.13"
  },
  "orig_nbformat": 4,
  "vscode": {
   "interpreter": {
    "hash": "c0ef0a5bb41742e4505d13bfcbbdabd890b23861a652b11328ff02da80bb568a"
   }
  }
 },
 "nbformat": 4,
 "nbformat_minor": 2
}
